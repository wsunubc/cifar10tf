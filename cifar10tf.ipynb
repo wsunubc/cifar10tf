{
 "cells": [
  {
   "cell_type": "markdown",
   "metadata": {
    "collapsed": true
   },
   "source": [
    "# Image Classification\n",
    "In this project, you'll classify images from the [CIFAR-10 dataset](https://www.cs.toronto.edu/~kriz/cifar.html).  The dataset consists of airplanes, dogs, cats, and other objects. You'll preprocess the images, then train a convolutional neural network on all the samples. The images need to be normalized and the labels need to be one-hot encoded.  You'll get to apply what you learned and build a convolutional, max pooling, dropout, and fully connected layers.  At the end, you'll get to see your neural network's predictions on the sample images.\n",
    "## Get the Data\n",
    "Run the following cell to download the [CIFAR-10 dataset for python](https://www.cs.toronto.edu/~kriz/cifar-10-python.tar.gz)."
   ]
  },
  {
   "cell_type": "code",
   "execution_count": 1,
   "metadata": {},
   "outputs": [
    {
     "name": "stdout",
     "output_type": "stream",
     "text": [
      "All files found!\n"
     ]
    }
   ],
   "source": [
    "\"\"\"\n",
    "DON'T MODIFY ANYTHING IN THIS CELL THAT IS BELOW THIS LINE\n",
    "\"\"\"\n",
    "from urllib.request import urlretrieve\n",
    "from os.path import isfile, isdir\n",
    "from tqdm import tqdm\n",
    "import problem_unittests as tests\n",
    "import tarfile\n",
    "\n",
    "cifar10_dataset_folder_path = 'cifar-10-batches-py'\n",
    "\n",
    "class DLProgress(tqdm):\n",
    "    last_block = 0\n",
    "\n",
    "    def hook(self, block_num=1, block_size=1, total_size=None):\n",
    "        self.total = total_size\n",
    "        self.update((block_num - self.last_block) * block_size)\n",
    "        self.last_block = block_num\n",
    "\n",
    "if not isfile('cifar-10-python.tar.gz'):\n",
    "    with DLProgress(unit='B', unit_scale=True, miniters=1, desc='CIFAR-10 Dataset') as pbar:\n",
    "        urlretrieve(\n",
    "            'https://www.cs.toronto.edu/~kriz/cifar-10-python.tar.gz',\n",
    "            'cifar-10-python.tar.gz',\n",
    "            pbar.hook)\n",
    "\n",
    "if not isdir(cifar10_dataset_folder_path):\n",
    "    with tarfile.open('cifar-10-python.tar.gz') as tar:\n",
    "        tar.extractall()\n",
    "        tar.close()\n",
    "\n",
    "\n",
    "tests.test_folder_path(cifar10_dataset_folder_path)"
   ]
  },
  {
   "cell_type": "markdown",
   "metadata": {},
   "source": [
    "## Explore the Data\n",
    "The dataset is broken into batches to prevent your machine from running out of memory.  The CIFAR-10 dataset consists of 5 batches, named `data_batch_1`, `data_batch_2`, etc.. Each batch contains the labels and images that are one of the following:\n",
    "* airplane\n",
    "* automobile\n",
    "* bird\n",
    "* cat\n",
    "* deer\n",
    "* dog\n",
    "* frog\n",
    "* horse\n",
    "* ship\n",
    "* truck\n",
    "\n",
    "Understanding a dataset is part of making predictions on the data.  Play around with the code cell below by changing the `batch_id` and `sample_id`. The `batch_id` is the id for a batch (1-5). The `sample_id` is the id for a image and label pair in the batch.\n",
    "\n",
    "Ask yourself \"What are all possible labels?\", \"What is the range of values for the image data?\", \"Are the labels in order or random?\".  Answers to questions like these will help you preprocess the data and end up with better predictions."
   ]
  },
  {
   "cell_type": "code",
   "execution_count": 2,
   "metadata": {},
   "outputs": [
    {
     "name": "stdout",
     "output_type": "stream",
     "text": [
      "\n",
      "Stats of batch 1:\n",
      "Samples: 10000\n",
      "Label Counts: {0: 1005, 1: 974, 2: 1032, 3: 1016, 4: 999, 5: 937, 6: 1030, 7: 1001, 8: 1025, 9: 981}\n",
      "First 20 Labels: [6, 9, 9, 4, 1, 1, 2, 7, 8, 3, 4, 7, 7, 2, 9, 9, 9, 3, 2, 6]\n",
      "\n",
      "Example of Image 5:\n",
      "Image - Min Value: 0 Max Value: 252\n",
      "Image - Shape: (32, 32, 3)\n",
      "Label - Label Id: 1 Name: automobile\n"
     ]
    },
    {
     "data": {
      "image/png": "[encoded data removed]",
      "text/plain": [
       "<matplotlib.figure.Figure at 0x7ff3b5d1c0b8>"
      ]
     },
     "metadata": {
      "image/png": {
       "height": 250,
       "width": 253
      }
     },
     "output_type": "display_data"
    }
   ],
   "source": [
    "%matplotlib inline\n",
    "%config InlineBackend.figure_format = 'retina'\n",
    "\n",
    "import helper\n",
    "import numpy as np\n",
    "\n",
    "# Explore the dataset\n",
    "batch_id = 1\n",
    "sample_id = 5\n",
    "helper.display_stats(cifar10_dataset_folder_path, batch_id, sample_id)"
   ]
  },
  {
   "cell_type": "markdown",
   "metadata": {},
   "source": [
    "## Implement Preprocess Functions\n",
    "### Normalize\n",
    "In the cell below, implement the `normalize` function to take in image data, `x`, and return it as a normalized Numpy array. The values should be in the range of 0 to 1, inclusive.  The return object should be the same shape as `x`."
   ]
  },
  {
   "cell_type": "code",
   "execution_count": 3,
   "metadata": {},
   "outputs": [
    {
     "name": "stdout",
     "output_type": "stream",
     "text": [
      "Tests Passed\n"
     ]
    }
   ],
   "source": [
    "def normalize(x):\n",
    "    \"\"\"\n",
    "    Normalize a list of sample image data in the range of 0 to 1\n",
    "    : x: List of image data.  The image shape is (32, 32, 3)\n",
    "    : return: Numpy array of normalize data\n",
    "    \"\"\"\n",
    "    # TODO: Implement Function\n",
    "    return np.array(x)/255.0\n",
    "\n",
    "\"\"\"\n",
    "DON'T MODIFY ANYTHING IN THIS CELL THAT IS BELOW THIS LINE\n",
    "\"\"\"\n",
    "tests.test_normalize(normalize)"
   ]
  },
  {
   "cell_type": "markdown",
   "metadata": {},
   "source": [
    "### One-hot encode\n",
    "Just like the previous code cell, you'll be implementing a function for preprocessing.  This time, you'll implement the `one_hot_encode` function. The input, `x`, are a list of labels.  Implement the function to return the list of labels as One-Hot encoded Numpy array.  The possible values for labels are 0 to 9. The one-hot encoding function should return the same encoding for each value between each call to `one_hot_encode`.  Make sure to save the map of encodings outside the function.\n",
    "\n",
    "**Hint:**\n",
    "\n",
    "Look into LabelBinarizer in the preprocessing module of sklearn."
   ]
  },
  {
   "cell_type": "code",
   "execution_count": 4,
   "metadata": {},
   "outputs": [
    {
     "name": "stdout",
     "output_type": "stream",
     "text": [
      "Tests Passed\n"
     ]
    }
   ],
   "source": [
    "def one_hot_encode(x):\n",
    "    \"\"\"\n",
    "    One hot encode a list of sample labels. Return a one-hot encoded vector for each label.\n",
    "    : x: List of sample Labels\n",
    "    : return: Numpy array of one-hot encoded labels\n",
    "    \"\"\"\n",
    "    # TODO: Implement Function\n",
    "    return one_hot_encode.encoder.transform(np.array(x).reshape(-1, 1)).toarray()\n",
    "\n",
    "import os, pickle\n",
    "from sklearn.preprocessing import OneHotEncoder\n",
    "one_hot_encode.encoder = OneHotEncoder()\n",
    "with open(os.path.join(cifar10_dataset_folder_path, 'test_batch'), 'rb') as f:\n",
    "    test_data = pickle.load(f, encoding='bytes')\n",
    "    test_data_labels = np.array(test_data[b'labels']).reshape(-1, 1)\n",
    "    one_hot_encode.encoder.fit(test_data_labels)\n",
    "\n",
    "\"\"\"\n",
    "DON'T MODIFY ANYTHING IN THIS CELL THAT IS BELOW THIS LINE\n",
    "\"\"\"\n",
    "tests.test_one_hot_encode(one_hot_encode)"
   ]
  },
  {
   "cell_type": "markdown",
   "metadata": {},
   "source": [
    "### Randomize Data\n",
    "As you saw from exploring the data above, the order of the samples are randomized.  It doesn't hurt to randomize it again, but you don't need to for this dataset."
   ]
  },
  {
   "cell_type": "markdown",
   "metadata": {},
   "source": [
    "## Preprocess all the data and save it\n",
    "Running the code cell below will preprocess all the CIFAR-10 data and save it to file. The code below also uses 10% of the training data for validation."
   ]
  },
  {
   "cell_type": "code",
   "execution_count": 5,
   "metadata": {},
   "outputs": [
    {
     "name": "stdout",
     "output_type": "stream",
     "text": [
      "Data has been preprocessed before. Skipping this step.\n"
     ]
    }
   ],
   "source": [
    "\"\"\"\n",
    "DON'T MODIFY ANYTHING IN THIS CELL\n",
    "\"\"\"\n",
    "\n",
    "import os\n",
    "if not os.path.isfile('preprocess_validation.p'): \n",
    "    # Preprocess Training, Validation, and Testing Data\n",
    "    helper.preprocess_and_save_data(cifar10_dataset_folder_path, normalize, one_hot_encode)\n",
    "else:\n",
    "    print('Data has been preprocessed before. Skipping this step.')"
   ]
  },
  {
   "cell_type": "markdown",
   "metadata": {},
   "source": [
    "# Check Point\n",
    "This is your first checkpoint.  If you ever decide to come back to this notebook or have to restart the notebook, you can start from here.  The preprocessed data has been saved to disk."
   ]
  },
  {
   "cell_type": "code",
   "execution_count": 6,
   "metadata": {
    "collapsed": true
   },
   "outputs": [],
   "source": [
    "\"\"\"\n",
    "DON'T MODIFY ANYTHING IN THIS CELL\n",
    "\"\"\"\n",
    "import pickle\n",
    "import problem_unittests as tests\n",
    "import helper\n",
    "\n",
    "# Load the Preprocessed Validation data\n",
    "valid_features, valid_labels = pickle.load(open('preprocess_validation.p', mode='rb'))"
   ]
  },
  {
   "cell_type": "markdown",
   "metadata": {},
   "source": [
    "## Build the network\n",
    "For the neural network, you'll build each layer into a function.  Most of the code you've seen has been outside of functions. To test your code more thoroughly, we require that you put each layer in a function.  This allows us to give you better feedback and test for simple mistakes using our unittests before you submit your project.\n",
    "\n",
    ">**Note:** If you're finding it hard to dedicate enough time for this course each week, we've provided a small shortcut to this part of the project. In the next couple of problems, you'll have the option to use classes from the [TensorFlow Layers](https://www.tensorflow.org/api_docs/python/tf/layers) or [TensorFlow Layers (contrib)](https://www.tensorflow.org/api_guides/python/contrib.layers) packages to build each layer, except the layers you build in the \"Convolutional and Max Pooling Layer\" section.  TF Layers is similar to Keras's and TFLearn's abstraction to layers, so it's easy to pickup.\n",
    "\n",
    ">However, if you would like to get the most out of this course, try to solve all the problems _without_ using anything from the TF Layers packages. You **can** still use classes from other packages that happen to have the same name as ones you find in TF Layers! For example, instead of using the TF Layers version of the `conv2d` class, [tf.layers.conv2d](https://www.tensorflow.org/api_docs/python/tf/layers/conv2d), you would want to use the TF Neural Network version of `conv2d`, [tf.nn.conv2d](https://www.tensorflow.org/api_docs/python/tf/nn/conv2d). \n",
    "\n",
    "Let's begin!\n",
    "\n",
    "### Input\n",
    "The neural network needs to read the image data, one-hot encoded labels, and dropout keep probability. Implement the following functions\n",
    "* Implement `neural_net_image_input`\n",
    " * Return a [TF Placeholder](https://www.tensorflow.org/api_docs/python/tf/placeholder)\n",
    " * Set the shape using `image_shape` with batch size set to `None`.\n",
    " * Name the TensorFlow placeholder \"x\" using the TensorFlow `name` parameter in the [TF Placeholder](https://www.tensorflow.org/api_docs/python/tf/placeholder).\n",
    "* Implement `neural_net_label_input`\n",
    " * Return a [TF Placeholder](https://www.tensorflow.org/api_docs/python/tf/placeholder)\n",
    " * Set the shape using `n_classes` with batch size set to `None`.\n",
    " * Name the TensorFlow placeholder \"y\" using the TensorFlow `name` parameter in the [TF Placeholder](https://www.tensorflow.org/api_docs/python/tf/placeholder).\n",
    "* Implement `neural_net_keep_prob_input`\n",
    " * Return a [TF Placeholder](https://www.tensorflow.org/api_docs/python/tf/placeholder) for dropout keep probability.\n",
    " * Name the TensorFlow placeholder \"keep_prob\" using the TensorFlow `name` parameter in the [TF Placeholder](https://www.tensorflow.org/api_docs/python/tf/placeholder).\n",
    "\n",
    "These names will be used at the end of the project to load your saved model.\n",
    "\n",
    "Note: `None` for shapes in TensorFlow allow for a dynamic size."
   ]
  },
  {
   "cell_type": "code",
   "execution_count": 7,
   "metadata": {},
   "outputs": [
    {
     "name": "stdout",
     "output_type": "stream",
     "text": [
      "Tensorflow will use computation device: /gpu:0\n"
     ]
    }
   ],
   "source": [
    "def get_best_tf_device():\n",
    "    from tensorflow.python.client.device_lib import list_local_devices\n",
    "    tf_devices = sorted([(x.device_type, x.memory_limit, x.name) for x in list_local_devices()], reverse=True)\n",
    "    return tf_devices[0][-1]\n",
    "\n",
    "tf_comp_device = get_best_tf_device()\n",
    "print('Tensorflow will use computation device:', tf_comp_device)"
   ]
  },
  {
   "cell_type": "code",
   "execution_count": 8,
   "metadata": {},
   "outputs": [
    {
     "name": "stdout",
     "output_type": "stream",
     "text": [
      "Image Input Tests Passed.\n",
      "Label Input Tests Passed.\n",
      "Keep Prob Tests Passed.\n"
     ]
    }
   ],
   "source": [
    "import tensorflow as tf\n",
    "\n",
    "def neural_net_image_input(image_shape):\n",
    "    \"\"\"\n",
    "    Return a Tensor for a batch of image input\n",
    "    : image_shape: Shape of the images\n",
    "    : return: Tensor for image input.\n",
    "    \"\"\"\n",
    "    # TODO: Implement Function\n",
    "    with tf.device(tf_comp_device):\n",
    "        p = tf.placeholder(tf.float32, ((None,) + image_shape), 'x')\n",
    "    return p\n",
    "\n",
    "\n",
    "def neural_net_label_input(n_classes):\n",
    "    \"\"\"\n",
    "    Return a Tensor for a batch of label input\n",
    "    : n_classes: Number of classes\n",
    "    : return: Tensor for label input.\n",
    "    \"\"\"\n",
    "    # TODO: Implement Function\n",
    "    with tf.device(tf_comp_device):\n",
    "        p = tf.placeholder(tf.float32, (None, n_classes), 'y')\n",
    "    return p\n",
    "\n",
    "\n",
    "def neural_net_keep_prob_input():\n",
    "    \"\"\"\n",
    "    Return a Tensor for keep probability\n",
    "    : return: Tensor for keep probability.\n",
    "    \"\"\"\n",
    "    # TODO: Implement Function\n",
    "    with tf.device(tf_comp_device):\n",
    "        p = tf.placeholder(tf.float32, (None), 'keep_prob')\n",
    "    return p\n",
    "\n",
    "\n",
    "\"\"\"\n",
    "DON'T MODIFY ANYTHING IN THIS CELL THAT IS BELOW THIS LINE\n",
    "\"\"\"\n",
    "tf.reset_default_graph()\n",
    "tests.test_nn_image_inputs(neural_net_image_input)\n",
    "tests.test_nn_label_inputs(neural_net_label_input)\n",
    "tests.test_nn_keep_prob_inputs(neural_net_keep_prob_input)"
   ]
  },
  {
   "cell_type": "markdown",
   "metadata": {},
   "source": [
    "### Convolution and Max Pooling Layer\n",
    "Convolution layers have a lot of success with images. For this code cell, you should implement the function `conv2d_maxpool` to apply convolution then max pooling:\n",
    "* Create the weight and bias using `conv_ksize`, `conv_num_outputs` and the shape of `x_tensor`.\n",
    "* Apply a convolution to `x_tensor` using weight and `conv_strides`.\n",
    " * We recommend you use same padding, but you're welcome to use any padding.\n",
    "* Add bias\n",
    "* Add a nonlinear activation to the convolution.\n",
    "* Apply Max Pooling using `pool_ksize` and `pool_strides`.\n",
    " * We recommend you use same padding, but you're welcome to use any padding.\n",
    "\n",
    "**Note:** You **can't** use [TensorFlow Layers](https://www.tensorflow.org/api_docs/python/tf/layers) or [TensorFlow Layers (contrib)](https://www.tensorflow.org/api_guides/python/contrib.layers) for **this** layer, but you can still use TensorFlow's [Neural Network](https://www.tensorflow.org/api_docs/python/tf/nn) package. You may still use the shortcut option for all the **other** layers.\n",
    "\n",
    "** Hint: **\n",
    "\n",
    "When unpacking values as an argument in Python, look into the [unpacking](https://docs.python.org/3/tutorial/controlflow.html#unpacking-argument-lists) operator. "
   ]
  },
  {
   "cell_type": "code",
   "execution_count": 9,
   "metadata": {},
   "outputs": [
    {
     "name": "stdout",
     "output_type": "stream",
     "text": [
      "Tests Passed\n"
     ]
    }
   ],
   "source": [
    "def conv2d_maxpool(x_tensor, conv_num_outputs, conv_ksize, conv_strides, pool_ksize, pool_strides):\n",
    "    \"\"\"\n",
    "    Apply convolution then max pooling to x_tensor\n",
    "    :param x_tensor: TensorFlow Tensor\n",
    "    :param conv_num_outputs: Number of outputs for the convolutional layer\n",
    "    :param conv_ksize: kernal size 2-D Tuple for the convolutional layer\n",
    "    :param conv_strides: Stride 2-D Tuple for convolution\n",
    "    :param pool_ksize: kernal size 2-D Tuple for pool\n",
    "    :param pool_strides: Stride 2-D Tuple for pool\n",
    "    : return: A tensor that represents convolution and max pooling of x_tensor\n",
    "    \"\"\"\n",
    "    # TODO: Implement Function\n",
    "    with tf.device(tf_comp_device):\n",
    "        conv_shape = list(conv_ksize) + [x_tensor.get_shape().as_list()[-1], conv_num_outputs]\n",
    "        conv_w = tf.Variable(tf.truncated_normal(conv_shape, stddev=0.1))\n",
    "        conv_b = tf.Variable(tf.zeros(conv_num_outputs))\n",
    "\n",
    "        conv_out = tf.nn.conv2d(x_tensor, conv_w, strides=[1] + list(conv_strides) + [1], padding='SAME')\n",
    "        conv_out = tf.nn.bias_add(conv_out, conv_b)\n",
    "        conv_out = tf.nn.max_pool(conv_out, \n",
    "                                ksize=[1] + list(pool_ksize) + [1], \n",
    "                                strides=[1] + list(pool_strides) + [1], \n",
    "                                padding='SAME')\n",
    "        conv_out = tf.nn.relu(conv_out)\n",
    "\n",
    "    \n",
    "    return conv_out \n",
    "\n",
    "\n",
    "\"\"\"\n",
    "DON'T MODIFY ANYTHING IN THIS CELL THAT IS BELOW THIS LINE\n",
    "\"\"\"\n",
    "tests.test_con_pool(conv2d_maxpool)"
   ]
  },
  {
   "cell_type": "markdown",
   "metadata": {},
   "source": [
    "### Flatten Layer\n",
    "Implement the `flatten` function to change the dimension of `x_tensor` from a 4-D tensor to a 2-D tensor.  The output should be the shape (*Batch Size*, *Flattened Image Size*). Shortcut option: you can use classes from the [TensorFlow Layers](https://www.tensorflow.org/api_docs/python/tf/layers) or [TensorFlow Layers (contrib)](https://www.tensorflow.org/api_guides/python/contrib.layers) packages for this layer. For more of a challenge, only use other TensorFlow packages."
   ]
  },
  {
   "cell_type": "code",
   "execution_count": 10,
   "metadata": {},
   "outputs": [
    {
     "name": "stdout",
     "output_type": "stream",
     "text": [
      "Tests Passed\n"
     ]
    }
   ],
   "source": [
    "def flatten(x_tensor):\n",
    "    \"\"\"\n",
    "    Flatten x_tensor to (Batch Size, Flattened Image Size)\n",
    "    : x_tensor: A tensor of size (Batch Size, ...), where ... are the image dimensions.\n",
    "    : return: A tensor of size (Batch Size, Flattened Image Size).\n",
    "    \"\"\"\n",
    "    # TODO: Implement Function\n",
    "    with tf.device(tf_comp_device):\n",
    "        from_shape = x_tensor.get_shape().as_list()\n",
    "        batch_size = tf.shape(x_tensor)[0]\n",
    "        to_shape = [batch_size, np.array(from_shape[1:]).prod()]\n",
    "        res = tf.reshape(x_tensor, to_shape)\n",
    "    return res\n",
    "\n",
    "\n",
    "\"\"\"\n",
    "DON'T MODIFY ANYTHING IN THIS CELL THAT IS BELOW THIS LINE\n",
    "\"\"\"\n",
    "tests.test_flatten(flatten)"
   ]
  },
  {
   "cell_type": "markdown",
   "metadata": {},
   "source": [
    "### Fully-Connected Layer\n",
    "Implement the `fully_conn` function to apply a fully connected layer to `x_tensor` with the shape (*Batch Size*, *num_outputs*). Shortcut option: you can use classes from the [TensorFlow Layers](https://www.tensorflow.org/api_docs/python/tf/layers) or [TensorFlow Layers (contrib)](https://www.tensorflow.org/api_guides/python/contrib.layers) packages for this layer. For more of a challenge, only use other TensorFlow packages."
   ]
  },
  {
   "cell_type": "code",
   "execution_count": 11,
   "metadata": {},
   "outputs": [
    {
     "name": "stdout",
     "output_type": "stream",
     "text": [
      "Tests Passed\n"
     ]
    }
   ],
   "source": [
    "def fully_conn(x_tensor, num_outputs):\n",
    "    \"\"\"\n",
    "    Apply a fully connected layer to x_tensor using weight and bias\n",
    "    : x_tensor: A 2-D tensor where the first dimension is batch size.\n",
    "    : num_outputs: The number of output that the new tensor should be.\n",
    "    : return: A 2-D tensor where the second dimension is num_outputs.\n",
    "    \"\"\"\n",
    "    # TODO: Implement Function\n",
    "    with tf.device(tf_comp_device):\n",
    "        num_inputs = x_tensor.get_shape().as_list()[1]\n",
    "        fc_w = tf.Variable(tf.truncated_normal([num_inputs, num_outputs], stddev=0.1))\n",
    "        fc_b = tf.Variable(tf.zeros([num_outputs]))\n",
    "\n",
    "        fc_out = tf.matmul(x_tensor, fc_w)\n",
    "        fc_out = tf.nn.bias_add(fc_out, fc_b)\n",
    "        fc_out = tf.nn.relu(fc_out)\n",
    "    \n",
    "    return fc_out\n",
    "\n",
    "\n",
    "\"\"\"\n",
    "DON'T MODIFY ANYTHING IN THIS CELL THAT IS BELOW THIS LINE\n",
    "\"\"\"\n",
    "tests.test_fully_conn(fully_conn)"
   ]
  },
  {
   "cell_type": "markdown",
   "metadata": {},
   "source": [
    "### Output Layer\n",
    "Implement the `output` function to apply a fully connected layer to `x_tensor` with the shape (*Batch Size*, *num_outputs*). Shortcut option: you can use classes from the [TensorFlow Layers](https://www.tensorflow.org/api_docs/python/tf/layers) or [TensorFlow Layers (contrib)](https://www.tensorflow.org/api_guides/python/contrib.layers) packages for this layer. For more of a challenge, only use other TensorFlow packages.\n",
    "\n",
    "**Note:** Activation, softmax, or cross entropy should **not** be applied to this."
   ]
  },
  {
   "cell_type": "code",
   "execution_count": 12,
   "metadata": {},
   "outputs": [
    {
     "name": "stdout",
     "output_type": "stream",
     "text": [
      "Tests Passed\n"
     ]
    }
   ],
   "source": [
    "def output(x_tensor, num_outputs):\n",
    "    \"\"\"\n",
    "    Apply a output layer to x_tensor using weight and bias\n",
    "    : x_tensor: A 2-D tensor where the first dimension is batch size.\n",
    "    : num_outputs: The number of output that the new tensor should be.\n",
    "    : return: A 2-D tensor where the second dimension is num_outputs.\n",
    "    \"\"\"\n",
    "    # TODO: Implement Function\n",
    "    with tf.device(tf_comp_device):\n",
    "        \n",
    "        num_inputs = x_tensor.get_shape().as_list()[1]\n",
    "        out_w = tf.Variable(tf.truncated_normal([num_inputs, num_outputs], stddev=0.1), 'out_w')\n",
    "        out_b = tf.Variable(tf.zeros([num_outputs]), 'out_b')\n",
    "\n",
    "        out_out = tf.matmul(x_tensor, out_w)\n",
    "        out_out = tf.nn.bias_add(out_out, out_b)\n",
    "\n",
    "    return out_out\n",
    "\n",
    "\n",
    "\"\"\"\n",
    "DON'T MODIFY ANYTHING IN THIS CELL THAT IS BELOW THIS LINE\n",
    "\"\"\"\n",
    "tests.test_output(output)"
   ]
  },
  {
   "cell_type": "markdown",
   "metadata": {},
   "source": [
    "### Create Convolutional Model\n",
    "Implement the function `conv_net` to create a convolutional neural network model. The function takes in a batch of images, `x`, and outputs logits.  Use the layers you created above to create this model:\n",
    "\n",
    "* Apply 1, 2, or 3 Convolution and Max Pool layers\n",
    "* Apply a Flatten Layer\n",
    "* Apply 1, 2, or 3 Fully Connected Layers\n",
    "* Apply an Output Layer\n",
    "* Return the output\n",
    "* Apply [TensorFlow's Dropout](https://www.tensorflow.org/api_docs/python/tf/nn/dropout) to one or more layers in the model using `keep_prob`. "
   ]
  },
  {
   "cell_type": "code",
   "execution_count": 13,
   "metadata": {},
   "outputs": [
    {
     "name": "stdout",
     "output_type": "stream",
     "text": [
      "Neural Network Built!\n"
     ]
    }
   ],
   "source": [
    "def conv_net(x, keep_prob):\n",
    "    \"\"\"\n",
    "    Create a convolutional neural network model\n",
    "    : x: Placeholder tensor that holds image data.\n",
    "    : keep_prob: Placeholder tensor that hold dropout keep probability.\n",
    "    : return: Tensor that represents logits\n",
    "    \"\"\"\n",
    "    \n",
    "    with tf.device(tf_comp_device):\n",
    "        # TODO: Apply 1, 2, or 3 Convolution and Max Pool layers\n",
    "        #    Play around with different number of outputs, kernel size and stride\n",
    "        # Function Definition from Above:\n",
    "        #    conv2d_maxpool(x_tensor, conv_num_outputs, conv_ksize, conv_strides, pool_ksize, pool_strides)\n",
    "        y = x\n",
    "        for conv_num_outputs in [64, 128]:\n",
    "            y = conv2d_maxpool(y, conv_num_outputs, [3,3], [1,1], [2,2], [2,2])\n",
    "\n",
    "\n",
    "        # TODO: Apply a Flatten Layer\n",
    "        # Function Definition from Above:\n",
    "        #   flatten(x_tensor)\n",
    "        y = flatten(y)\n",
    "\n",
    "        # TODO: Apply 1, 2, or 3 Fully Connected Layers\n",
    "        #    Play around with different number of outputs\n",
    "        # Function Definition from Above:\n",
    "        #   fully_conn(x_tensor, num_outputs)\n",
    "        for num_outputs in [1024, 512]:\n",
    "            y = fully_conn(y, num_outputs) # Note: we already have relu inside fully_conn\n",
    "            y = tf.nn.dropout(y, keep_prob)\n",
    "\n",
    "        # TODO: Apply an Output Layer\n",
    "        #    Set this to the number of classes\n",
    "        # Function Definition from Above:\n",
    "        #   output(x_tensor, num_outputs)\n",
    "        y = output(y, 10)\n",
    "    \n",
    "    # TODO: return output\n",
    "    return y\n",
    "\n",
    "\n",
    "\"\"\"\n",
    "DON'T MODIFY ANYTHING IN THIS CELL THAT IS BELOW THIS LINE\n",
    "\"\"\"\n",
    "\n",
    "##############################\n",
    "## Build the Neural Network ##\n",
    "##############################\n",
    "\n",
    "with tf.device(tf_comp_device):\n",
    "    # Remove previous weights, bias, inputs, etc..\n",
    "    tf.reset_default_graph()\n",
    "\n",
    "    # Inputs\n",
    "    x = neural_net_image_input((32, 32, 3))\n",
    "    y = neural_net_label_input(10)\n",
    "    keep_prob = neural_net_keep_prob_input()\n",
    "\n",
    "    # Model\n",
    "    logits = conv_net(x, keep_prob)\n",
    "\n",
    "    # Name logits Tensor, so that is can be loaded from disk after training\n",
    "    logits = tf.identity(logits, name='logits')\n",
    "\n",
    "    # Loss and Optimizer\n",
    "    cost = tf.reduce_mean(tf.nn.softmax_cross_entropy_with_logits(logits=logits, labels=y))\n",
    "    optimizer = tf.train.AdamOptimizer().minimize(cost)\n",
    "\n",
    "    # Accuracy\n",
    "    correct_pred = tf.equal(tf.argmax(logits, 1), tf.argmax(y, 1))\n",
    "    accuracy = tf.reduce_mean(tf.cast(correct_pred, tf.float32), name='accuracy')\n",
    "\n",
    "tests.test_conv_net(conv_net)"
   ]
  },
  {
   "cell_type": "markdown",
   "metadata": {},
   "source": [
    "## Train the Neural Network\n",
    "### Single Optimization\n",
    "Implement the function `train_neural_network` to do a single optimization.  The optimization should use `optimizer` to optimize in `session` with a `feed_dict` of the following:\n",
    "* `x` for image input\n",
    "* `y` for labels\n",
    "* `keep_prob` for keep probability for dropout\n",
    "\n",
    "This function will be called for each batch, so `tf.global_variables_initializer()` has already been called.\n",
    "\n",
    "Note: Nothing needs to be returned. This function is only optimizing the neural network."
   ]
  },
  {
   "cell_type": "code",
   "execution_count": 14,
   "metadata": {},
   "outputs": [
    {
     "name": "stdout",
     "output_type": "stream",
     "text": [
      "Tests Passed\n"
     ]
    }
   ],
   "source": [
    "def train_neural_network(session, optimizer, keep_probability, feature_batch, label_batch):\n",
    "    \"\"\"\n",
    "    Optimize the session on a batch of images and labels\n",
    "    : session: Current TensorFlow session\n",
    "    : optimizer: TensorFlow optimizer function\n",
    "    : keep_probability: keep probability\n",
    "    : feature_batch: Batch of Numpy image data\n",
    "    : label_batch: Batch of Numpy label data\n",
    "    \"\"\"\n",
    "    # TODO: Implement Function\n",
    "    session.run(optimizer, feed_dict={x: feature_batch, y: label_batch, keep_prob: keep_probability})\n",
    "\n",
    "\n",
    "\"\"\"\n",
    "DON'T MODIFY ANYTHING IN THIS CELL THAT IS BELOW THIS LINE\n",
    "\"\"\"\n",
    "tests.test_train_nn(train_neural_network)"
   ]
  },
  {
   "cell_type": "markdown",
   "metadata": {},
   "source": [
    "### Show Stats\n",
    "Implement the function `print_stats` to print loss and validation accuracy.  Use the global variables `valid_features` and `valid_labels` to calculate validation accuracy.  Use a keep probability of `1.0` to calculate the loss and validation accuracy."
   ]
  },
  {
   "cell_type": "code",
   "execution_count": 15,
   "metadata": {
    "collapsed": true
   },
   "outputs": [],
   "source": [
    "def print_stats(session, feature_batch, label_batch, cost, accuracy):\n",
    "    \"\"\"\n",
    "    Print information about loss and validation accuracy\n",
    "    : session: Current TensorFlow session\n",
    "    : feature_batch: Batch of Numpy image data\n",
    "    : label_batch: Batch of Numpy label data\n",
    "    : cost: TensorFlow cost function\n",
    "    : accuracy: TensorFlow accuracy function\n",
    "    \"\"\"\n",
    "    # TODO: Implement Function\n",
    "    v_cost = session.run(cost, feed_dict={x: feature_batch, y: label_batch, keep_prob: 1.})\n",
    "    v_accuracy = session.run(accuracy, feed_dict={x: valid_features, y: valid_labels, keep_prob: 1.})\n",
    "    \n",
    "    print('Loss=', v_cost, ', Validation Accuracy=', v_accuracy)\n"
   ]
  },
  {
   "cell_type": "markdown",
   "metadata": {},
   "source": [
    "### Hyperparameters\n",
    "Tune the following parameters:\n",
    "* Set `epochs` to the number of iterations until the network stops learning or start overfitting\n",
    "* Set `batch_size` to the highest number that your machine has memory for.  Most people set them to common sizes of memory:\n",
    " * 64\n",
    " * 128\n",
    " * 256\n",
    " * ...\n",
    "* Set `keep_probability` to the probability of keeping a node using dropout"
   ]
  },
  {
   "cell_type": "code",
   "execution_count": 16,
   "metadata": {
    "collapsed": true
   },
   "outputs": [],
   "source": [
    "# TODO: Tune Parameters\n",
    "epochs = 20\n",
    "batch_size = 512\n",
    "keep_probability = 0.5"
   ]
  },
  {
   "cell_type": "markdown",
   "metadata": {},
   "source": [
    "### Train on a Single CIFAR-10 Batch\n",
    "Instead of training the neural network on all the CIFAR-10 batches of data, let's use a single batch. This should save time while you iterate on the model to get a better accuracy.  Once the final validation accuracy is 50% or greater, run the model on all the data in the next section."
   ]
  },
  {
   "cell_type": "code",
   "execution_count": 17,
   "metadata": {},
   "outputs": [
    {
     "name": "stdout",
     "output_type": "stream",
     "text": [
      "Checking the Training on a Single Batch...\n",
      "Epoch  1, CIFAR-10 Batch 1:  Loss= 2.16508 , Validation Accuracy= 0.2312\n",
      "Epoch  2, CIFAR-10 Batch 1:  Loss= 1.93548 , Validation Accuracy= 0.3176\n",
      "Epoch  3, CIFAR-10 Batch 1:  Loss= 1.66721 , Validation Accuracy= 0.3902\n",
      "Epoch  4, CIFAR-10 Batch 1:  Loss= 1.5281 , Validation Accuracy= 0.4254\n",
      "Epoch  5, CIFAR-10 Batch 1:  Loss= 1.34949 , Validation Accuracy= 0.4696\n",
      "Epoch  6, CIFAR-10 Batch 1:  Loss= 1.19764 , Validation Accuracy= 0.5008\n",
      "Epoch  7, CIFAR-10 Batch 1:  Loss= 1.08715 , Validation Accuracy= 0.5242\n",
      "Epoch  8, CIFAR-10 Batch 1:  Loss= 0.952546 , Validation Accuracy= 0.5296\n",
      "Epoch  9, CIFAR-10 Batch 1:  Loss= 0.824252 , Validation Accuracy= 0.5518\n",
      "Epoch 10, CIFAR-10 Batch 1:  Loss= 0.722985 , Validation Accuracy= 0.554\n",
      "Epoch 11, CIFAR-10 Batch 1:  Loss= 0.638447 , Validation Accuracy= 0.5548\n",
      "Epoch 12, CIFAR-10 Batch 1:  Loss= 0.543691 , Validation Accuracy= 0.5718\n",
      "Epoch 13, CIFAR-10 Batch 1:  Loss= 0.472608 , Validation Accuracy= 0.5716\n",
      "Epoch 14, CIFAR-10 Batch 1:  Loss= 0.403046 , Validation Accuracy= 0.5768\n",
      "Epoch 15, CIFAR-10 Batch 1:  Loss= 0.360547 , Validation Accuracy= 0.5838\n",
      "Epoch 16, CIFAR-10 Batch 1:  Loss= 0.329968 , Validation Accuracy= 0.5722\n",
      "Epoch 17, CIFAR-10 Batch 1:  Loss= 0.29276 , Validation Accuracy= 0.5694\n",
      "Epoch 18, CIFAR-10 Batch 1:  Loss= 0.209778 , Validation Accuracy= 0.5746\n",
      "Epoch 19, CIFAR-10 Batch 1:  Loss= 0.186606 , Validation Accuracy= 0.597\n",
      "Epoch 20, CIFAR-10 Batch 1:  Loss= 0.177381 , Validation Accuracy= 0.586\n"
     ]
    }
   ],
   "source": [
    "\"\"\"\n",
    "DON'T MODIFY ANYTHING IN THIS CELL\n",
    "\"\"\"\n",
    "print('Checking the Training on a Single Batch...')\n",
    "with tf.Session(config=tf.ConfigProto(allow_soft_placement=True)) as sess:\n",
    "    # Initializing the variables\n",
    "    sess.run(tf.global_variables_initializer())\n",
    "    \n",
    "    # Training cycle\n",
    "    for epoch in range(epochs):\n",
    "        batch_i = 1\n",
    "        for batch_features, batch_labels in helper.load_preprocess_training_batch(batch_i, batch_size):\n",
    "            train_neural_network(sess, optimizer, keep_probability, batch_features, batch_labels)\n",
    "        print('Epoch {:>2}, CIFAR-10 Batch {}:  '.format(epoch + 1, batch_i), end='')\n",
    "        print_stats(sess, batch_features, batch_labels, cost, accuracy)"
   ]
  },
  {
   "cell_type": "markdown",
   "metadata": {},
   "source": [
    "### Fully Train the Model\n",
    "Now that you got a good accuracy with a single CIFAR-10 batch, try it with all five batches."
   ]
  },
  {
   "cell_type": "code",
   "execution_count": 18,
   "metadata": {},
   "outputs": [
    {
     "name": "stdout",
     "output_type": "stream",
     "text": [
      "Training...\n",
      "Epoch  1, CIFAR-10 Batch 1:  Loss= 2.17568 , Validation Accuracy= 0.2104\n",
      "Epoch  1, CIFAR-10 Batch 2:  Loss= 1.92705 , Validation Accuracy= 0.3228\n",
      "Epoch  1, CIFAR-10 Batch 3:  Loss= 1.63862 , Validation Accuracy= 0.4022\n",
      "Epoch  1, CIFAR-10 Batch 4:  Loss= 1.57301 , Validation Accuracy= 0.4346\n",
      "Epoch  1, CIFAR-10 Batch 5:  Loss= 1.51446 , Validation Accuracy= 0.4424\n",
      "Epoch  2, CIFAR-10 Batch 1:  Loss= 1.52976 , Validation Accuracy= 0.479\n",
      "Epoch  2, CIFAR-10 Batch 2:  Loss= 1.36193 , Validation Accuracy= 0.5014\n",
      "Epoch  2, CIFAR-10 Batch 3:  Loss= 1.24824 , Validation Accuracy= 0.5086\n",
      "Epoch  2, CIFAR-10 Batch 4:  Loss= 1.23112 , Validation Accuracy= 0.5202\n",
      "Epoch  2, CIFAR-10 Batch 5:  Loss= 1.19865 , Validation Accuracy= 0.5286\n",
      "Epoch  3, CIFAR-10 Batch 1:  Loss= 1.27706 , Validation Accuracy= 0.5412\n",
      "Epoch  3, CIFAR-10 Batch 2:  Loss= 1.17848 , Validation Accuracy= 0.5592\n",
      "Epoch  3, CIFAR-10 Batch 3:  Loss= 1.066 , Validation Accuracy= 0.5646\n",
      "Epoch  3, CIFAR-10 Batch 4:  Loss= 1.055 , Validation Accuracy= 0.5606\n",
      "Epoch  3, CIFAR-10 Batch 5:  Loss= 1.01413 , Validation Accuracy= 0.5812\n",
      "Epoch  4, CIFAR-10 Batch 1:  Loss= 1.08186 , Validation Accuracy= 0.5848\n",
      "Epoch  4, CIFAR-10 Batch 2:  Loss= 0.994912 , Validation Accuracy= 0.6012\n",
      "Epoch  4, CIFAR-10 Batch 3:  Loss= 0.931751 , Validation Accuracy= 0.5942\n",
      "Epoch  4, CIFAR-10 Batch 4:  Loss= 0.922537 , Validation Accuracy= 0.5964\n",
      "Epoch  4, CIFAR-10 Batch 5:  Loss= 0.855385 , Validation Accuracy= 0.617\n",
      "Epoch  5, CIFAR-10 Batch 1:  Loss= 0.972401 , Validation Accuracy= 0.6196\n",
      "Epoch  5, CIFAR-10 Batch 2:  Loss= 0.860958 , Validation Accuracy= 0.6256\n",
      "Epoch  5, CIFAR-10 Batch 3:  Loss= 0.821228 , Validation Accuracy= 0.6186\n",
      "Epoch  5, CIFAR-10 Batch 4:  Loss= 0.760943 , Validation Accuracy= 0.6322\n",
      "Epoch  5, CIFAR-10 Batch 5:  Loss= 0.751398 , Validation Accuracy= 0.6342\n",
      "Epoch  6, CIFAR-10 Batch 1:  Loss= 0.812726 , Validation Accuracy= 0.6376\n",
      "Epoch  6, CIFAR-10 Batch 2:  Loss= 0.758223 , Validation Accuracy= 0.637\n",
      "Epoch  6, CIFAR-10 Batch 3:  Loss= 0.714299 , Validation Accuracy= 0.6352\n",
      "Epoch  6, CIFAR-10 Batch 4:  Loss= 0.686975 , Validation Accuracy= 0.6472\n",
      "Epoch  6, CIFAR-10 Batch 5:  Loss= 0.644484 , Validation Accuracy= 0.6468\n",
      "Epoch  7, CIFAR-10 Batch 1:  Loss= 0.710496 , Validation Accuracy= 0.6368\n",
      "Epoch  7, CIFAR-10 Batch 2:  Loss= 0.648335 , Validation Accuracy= 0.6522\n",
      "Epoch  7, CIFAR-10 Batch 3:  Loss= 0.585061 , Validation Accuracy= 0.6626\n",
      "Epoch  7, CIFAR-10 Batch 4:  Loss= 0.545218 , Validation Accuracy= 0.6698\n",
      "Epoch  7, CIFAR-10 Batch 5:  Loss= 0.51826 , Validation Accuracy= 0.6598\n",
      "Epoch  8, CIFAR-10 Batch 1:  Loss= 0.571372 , Validation Accuracy= 0.655\n",
      "Epoch  8, CIFAR-10 Batch 2:  Loss= 0.546864 , Validation Accuracy= 0.6598\n",
      "Epoch  8, CIFAR-10 Batch 3:  Loss= 0.481754 , Validation Accuracy= 0.6754\n",
      "Epoch  8, CIFAR-10 Batch 4:  Loss= 0.461455 , Validation Accuracy= 0.6816\n",
      "Epoch  8, CIFAR-10 Batch 5:  Loss= 0.429366 , Validation Accuracy= 0.67\n",
      "Epoch  9, CIFAR-10 Batch 1:  Loss= 0.482672 , Validation Accuracy= 0.6708\n",
      "Epoch  9, CIFAR-10 Batch 2:  Loss= 0.462069 , Validation Accuracy= 0.6564\n",
      "Epoch  9, CIFAR-10 Batch 3:  Loss= 0.429795 , Validation Accuracy= 0.6742\n",
      "Epoch  9, CIFAR-10 Batch 4:  Loss= 0.393509 , Validation Accuracy= 0.682\n",
      "Epoch  9, CIFAR-10 Batch 5:  Loss= 0.358538 , Validation Accuracy= 0.688\n",
      "Epoch 10, CIFAR-10 Batch 1:  Loss= 0.393925 , Validation Accuracy= 0.6736\n",
      "Epoch 10, CIFAR-10 Batch 2:  Loss= 0.415442 , Validation Accuracy= 0.671\n",
      "Epoch 10, CIFAR-10 Batch 3:  Loss= 0.377362 , Validation Accuracy= 0.6888\n",
      "Epoch 10, CIFAR-10 Batch 4:  Loss= 0.32176 , Validation Accuracy= 0.6706\n",
      "Epoch 10, CIFAR-10 Batch 5:  Loss= 0.314784 , Validation Accuracy= 0.6732\n",
      "Epoch 11, CIFAR-10 Batch 1:  Loss= 0.338122 , Validation Accuracy= 0.6808\n",
      "Epoch 11, CIFAR-10 Batch 2:  Loss= 0.324957 , Validation Accuracy= 0.6902\n",
      "Epoch 11, CIFAR-10 Batch 3:  Loss= 0.29949 , Validation Accuracy= 0.6952\n",
      "Epoch 11, CIFAR-10 Batch 4:  Loss= 0.273468 , Validation Accuracy= 0.6852\n",
      "Epoch 11, CIFAR-10 Batch 5:  Loss= 0.241713 , Validation Accuracy= 0.6816\n",
      "Epoch 12, CIFAR-10 Batch 1:  Loss= 0.265554 , Validation Accuracy= 0.697\n",
      "Epoch 12, CIFAR-10 Batch 2:  Loss= 0.258855 , Validation Accuracy= 0.698\n",
      "Epoch 12, CIFAR-10 Batch 3:  Loss= 0.25593 , Validation Accuracy= 0.6936\n",
      "Epoch 12, CIFAR-10 Batch 4:  Loss= 0.22806 , Validation Accuracy= 0.6864\n",
      "Epoch 12, CIFAR-10 Batch 5:  Loss= 0.169345 , Validation Accuracy= 0.702\n",
      "Epoch 13, CIFAR-10 Batch 1:  Loss= 0.250996 , Validation Accuracy= 0.685\n",
      "Epoch 13, CIFAR-10 Batch 2:  Loss= 0.207226 , Validation Accuracy= 0.6996\n",
      "Epoch 13, CIFAR-10 Batch 3:  Loss= 0.20594 , Validation Accuracy= 0.6928\n",
      "Epoch 13, CIFAR-10 Batch 4:  Loss= 0.204274 , Validation Accuracy= 0.6818\n",
      "Epoch 13, CIFAR-10 Batch 5:  Loss= 0.161711 , Validation Accuracy= 0.6914\n",
      "Epoch 14, CIFAR-10 Batch 1:  Loss= 0.187255 , Validation Accuracy= 0.6992\n",
      "Epoch 14, CIFAR-10 Batch 2:  Loss= 0.173351 , Validation Accuracy= 0.6934\n",
      "Epoch 14, CIFAR-10 Batch 3:  Loss= 0.152438 , Validation Accuracy= 0.7056\n",
      "Epoch 14, CIFAR-10 Batch 4:  Loss= 0.160535 , Validation Accuracy= 0.693\n",
      "Epoch 14, CIFAR-10 Batch 5:  Loss= 0.132541 , Validation Accuracy= 0.7002\n",
      "Epoch 15, CIFAR-10 Batch 1:  Loss= 0.15854 , Validation Accuracy= 0.694\n",
      "Epoch 15, CIFAR-10 Batch 2:  Loss= 0.155236 , Validation Accuracy= 0.6952\n",
      "Epoch 15, CIFAR-10 Batch 3:  Loss= 0.122497 , Validation Accuracy= 0.7016\n",
      "Epoch 15, CIFAR-10 Batch 4:  Loss= 0.1097 , Validation Accuracy= 0.6832\n",
      "Epoch 15, CIFAR-10 Batch 5:  Loss= 0.093396 , Validation Accuracy= 0.708\n",
      "Epoch 16, CIFAR-10 Batch 1:  Loss= 0.138029 , Validation Accuracy= 0.7152\n",
      "Epoch 16, CIFAR-10 Batch 2:  Loss= 0.123386 , Validation Accuracy= 0.6884\n",
      "Epoch 16, CIFAR-10 Batch 3:  Loss= 0.093583 , Validation Accuracy= 0.705\n",
      "Epoch 16, CIFAR-10 Batch 4:  Loss= 0.0724776 , Validation Accuracy= 0.7016\n",
      "Epoch 16, CIFAR-10 Batch 5:  Loss= 0.071017 , Validation Accuracy= 0.7052\n",
      "Epoch 17, CIFAR-10 Batch 1:  Loss= 0.105412 , Validation Accuracy= 0.6964\n",
      "Epoch 17, CIFAR-10 Batch 2:  Loss= 0.100543 , Validation Accuracy= 0.6876\n",
      "Epoch 17, CIFAR-10 Batch 3:  Loss= 0.0750138 , Validation Accuracy= 0.7092\n",
      "Epoch 17, CIFAR-10 Batch 4:  Loss= 0.0659374 , Validation Accuracy= 0.6948\n",
      "Epoch 17, CIFAR-10 Batch 5:  Loss= 0.0726467 , Validation Accuracy= 0.701\n",
      "Epoch 18, CIFAR-10 Batch 1:  Loss= 0.0967782 , Validation Accuracy= 0.679\n",
      "Epoch 18, CIFAR-10 Batch 2:  Loss= 0.0875903 , Validation Accuracy= 0.6886\n",
      "Epoch 18, CIFAR-10 Batch 3:  Loss= 0.0689674 , Validation Accuracy= 0.6916\n",
      "Epoch 18, CIFAR-10 Batch 4:  Loss= 0.062451 , Validation Accuracy= 0.6928\n",
      "Epoch 18, CIFAR-10 Batch 5:  Loss= 0.0445863 , Validation Accuracy= 0.702\n",
      "Epoch 19, CIFAR-10 Batch 1:  Loss= 0.0675635 , Validation Accuracy= 0.704\n",
      "Epoch 19, CIFAR-10 Batch 2:  Loss= 0.0620441 , Validation Accuracy= 0.6962\n",
      "Epoch 19, CIFAR-10 Batch 3:  Loss= 0.0499849 , Validation Accuracy= 0.6976\n",
      "Epoch 19, CIFAR-10 Batch 4:  Loss= 0.0519915 , Validation Accuracy= 0.7024\n",
      "Epoch 19, CIFAR-10 Batch 5:  Loss= 0.0378591 , Validation Accuracy= 0.7056\n",
      "Epoch 20, CIFAR-10 Batch 1:  Loss= 0.0548282 , Validation Accuracy= 0.7028\n",
      "Epoch 20, CIFAR-10 Batch 2:  Loss= 0.0686603 , Validation Accuracy= 0.699\n",
      "Epoch 20, CIFAR-10 Batch 3:  Loss= 0.0448977 , Validation Accuracy= 0.7026\n",
      "Epoch 20, CIFAR-10 Batch 4:  Loss= 0.0455892 , Validation Accuracy= 0.6992\n",
      "Epoch 20, CIFAR-10 Batch 5:  Loss= 0.0240611 , Validation Accuracy= 0.707\n"
     ]
    }
   ],
   "source": [
    "\"\"\"\n",
    "DON'T MODIFY ANYTHING IN THIS CELL\n",
    "\"\"\"\n",
    "save_model_path = './tf_save/image_classification'\n",
    "\n",
    "print('Training...')\n",
    "with tf.Session(config=tf.ConfigProto(allow_soft_placement=True)) as sess:\n",
    "    # Initializing the variables\n",
    "    sess.run(tf.global_variables_initializer())\n",
    "    \n",
    "    # Training cycle\n",
    "    for epoch in range(epochs):\n",
    "        # Loop over all batches\n",
    "        n_batches = 5\n",
    "        for batch_i in range(1, n_batches + 1):\n",
    "            for batch_features, batch_labels in helper.load_preprocess_training_batch(batch_i, batch_size):\n",
    "                train_neural_network(sess, optimizer, keep_probability, batch_features, batch_labels)\n",
    "            print('Epoch {:>2}, CIFAR-10 Batch {}:  '.format(epoch + 1, batch_i), end='')\n",
    "            print_stats(sess, batch_features, batch_labels, cost, accuracy)\n",
    "            \n",
    "    # Save Model\n",
    "    saver = tf.train.Saver()\n",
    "    save_path = saver.save(sess, save_model_path)"
   ]
  },
  {
   "cell_type": "markdown",
   "metadata": {},
   "source": [
    "# Checkpoint\n",
    "The model has been saved to disk.\n",
    "## Test Model\n",
    "Test your model against the test dataset.  This will be your final accuracy. You should have an accuracy greater than 50%. If you don't, keep tweaking the model architecture and parameters."
   ]
  },
  {
   "cell_type": "code",
   "execution_count": 19,
   "metadata": {},
   "outputs": [
    {
     "name": "stdout",
     "output_type": "stream",
     "text": [
      "INFO:tensorflow:Restoring parameters from ./tf_save/image_classification\n",
      "Testing Accuracy: 0.7088235318660736\n",
      "\n"
     ]
    },
    {
     "data": {
      "image/png": "[encoded data removed]",
      "text/plain": [
       "<matplotlib.figure.Figure at 0x7ff34c25e518>"
      ]
     },
     "metadata": {
      "image/png": {
       "height": 319,
       "width": 355
      }
     },
     "output_type": "display_data"
    }
   ],
   "source": [
    "\"\"\"\n",
    "DON'T MODIFY ANYTHING IN THIS CELL\n",
    "\"\"\"\n",
    "%matplotlib inline\n",
    "%config InlineBackend.figure_format = 'retina'\n",
    "\n",
    "import tensorflow as tf\n",
    "import pickle\n",
    "import helper\n",
    "import random\n",
    "\n",
    "# Set batch size if not already set\n",
    "try:\n",
    "    if batch_size:\n",
    "        pass\n",
    "except NameError:\n",
    "    batch_size = 64\n",
    "\n",
    "save_model_path = './tf_save/image_classification'\n",
    "n_samples = 4\n",
    "top_n_predictions = 3\n",
    "\n",
    "def test_model():\n",
    "    \"\"\"\n",
    "    Test the saved model against the test dataset\n",
    "    \"\"\"\n",
    "\n",
    "    test_features, test_labels = pickle.load(open('preprocess_training.p', mode='rb'))\n",
    "    loaded_graph = tf.Graph()\n",
    "\n",
    "    with tf.Session(graph=loaded_graph) as sess:\n",
    "        # Load model\n",
    "        loader = tf.train.import_meta_graph(save_model_path + '.meta')\n",
    "        loader.restore(sess, save_model_path)\n",
    "\n",
    "        # Get Tensors from loaded model\n",
    "        loaded_x = loaded_graph.get_tensor_by_name('x:0')\n",
    "        loaded_y = loaded_graph.get_tensor_by_name('y:0')\n",
    "        loaded_keep_prob = loaded_graph.get_tensor_by_name('keep_prob:0')\n",
    "        loaded_logits = loaded_graph.get_tensor_by_name('logits:0')\n",
    "        loaded_acc = loaded_graph.get_tensor_by_name('accuracy:0')\n",
    "        \n",
    "        # Get accuracy in batches for memory limitations\n",
    "        test_batch_acc_total = 0\n",
    "        test_batch_count = 0\n",
    "        \n",
    "        for train_feature_batch, train_label_batch in helper.batch_features_labels(test_features, test_labels, batch_size):\n",
    "            test_batch_acc_total += sess.run(\n",
    "                loaded_acc,\n",
    "                feed_dict={loaded_x: train_feature_batch, loaded_y: train_label_batch, loaded_keep_prob: 1.0})\n",
    "            test_batch_count += 1\n",
    "\n",
    "        print('Testing Accuracy: {}\\n'.format(test_batch_acc_total/test_batch_count))\n",
    "\n",
    "        # Print Random Samples\n",
    "        random_test_features, random_test_labels = tuple(zip(*random.sample(list(zip(test_features, test_labels)), n_samples)))\n",
    "        random_test_predictions = sess.run(\n",
    "            tf.nn.top_k(tf.nn.softmax(loaded_logits), top_n_predictions),\n",
    "            feed_dict={loaded_x: random_test_features, loaded_y: random_test_labels, loaded_keep_prob: 1.0})\n",
    "        helper.display_image_predictions(random_test_features, random_test_labels, random_test_predictions)\n",
    "\n",
    "\n",
    "test_model()"
   ]
  },
  {
   "cell_type": "markdown",
   "metadata": {},
   "source": [
    "## Why 50-80% Accuracy?\n",
    "You might be wondering why you can't get an accuracy any higher. First things first, 50% isn't bad for a simple CNN.  Pure guessing would get you 10% accuracy. That's because there are many more techniques that can be applied to your model and we recemmond that once you are done with this project, you explore!\n",
    "\n",
    "## Submitting This Project\n",
    "When submitting this project, make sure to run all the cells before saving the notebook.  Save the notebook file as \"image_classification.ipynb\" and save it as a HTML file under \"File\" -> \"Download as\".  Include the \"helper.py\" and \"problem_unittests.py\" files in your submission."
   ]
  }
 ],
 "metadata": {
  "kernelspec": {
   "display_name": "Python 3",
   "language": "python",
   "name": "python3"
  },
  "language_info": {
   "codemirror_mode": {
    "name": "ipython",
    "version": 3
   },
   "file_extension": ".py",
   "mimetype": "text/x-python",
   "name": "python",
   "nbconvert_exporter": "python",
   "pygments_lexer": "ipython3",
   "version": "3.6.2"
  }
 },
 "nbformat": 4,
 "nbformat_minor": 1
}
